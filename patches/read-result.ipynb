{
 "cells": [
  {
   "cell_type": "code",
   "execution_count": 19,
   "id": "cdfc1a6b",
   "metadata": {},
   "outputs": [],
   "source": [
    "import json\n",
    "import difflib"
   ]
  },
  {
   "cell_type": "code",
   "execution_count": 20,
   "id": "468f78af",
   "metadata": {},
   "outputs": [],
   "source": [
    "def print_code_diff_ignore_whitespace(code1: str, code2: str, name1='code1', name2='code2'):\n",
    "    # Normalize lines: strip leading/trailing whitespace\n",
    "    lines1 = [line.strip() for line in code1.strip().splitlines() if line.strip()]\n",
    "    lines2 = [line.strip() for line in code2.strip().splitlines() if line.strip()]\n",
    "\n",
    "    diff = difflib.unified_diff(\n",
    "        lines1, lines2,\n",
    "        fromfile=name1,\n",
    "        tofile=name2,\n",
    "        lineterm=''\n",
    "    )\n",
    "\n",
    "    for line in diff:\n",
    "        print(line)"
   ]
  },
  {
   "cell_type": "code",
   "execution_count": 21,
   "id": "371155f7",
   "metadata": {},
   "outputs": [],
   "source": [
    "bug_id = \"5\""
   ]
  },
  {
   "cell_type": "markdown",
   "id": "29648da7",
   "metadata": {},
   "source": [
    "## **Ground Truth**"
   ]
  },
  {
   "cell_type": "code",
   "execution_count": 22,
   "id": "88e5fcb1",
   "metadata": {},
   "outputs": [],
   "source": [
    "metadata_file = \"./metadata.json\"\n",
    "with open(metadata_file, 'r') as f:\n",
    "    metadata = json.load(f)"
   ]
  },
  {
   "cell_type": "code",
   "execution_count": 23,
   "id": "edb69a94",
   "metadata": {},
   "outputs": [
    {
     "name": "stdout",
     "output_type": "stream",
     "text": [
      "--- patched_file\n",
      "+++ metadata_file\n",
      "@@ -1,6 +1,6 @@\n",
      " @Exported(visibility=999)\n",
      " public @Override String getName() {\n",
      "-if (testName.isEmpty()) {\n",
      "+if (StringUtils.isEmpty(testName)) {\n",
      " return \"(?)\";\n",
      " }\n",
      " return testName;\n"
     ]
    }
   ],
   "source": [
    "print_code_diff_ignore_whitespace(\n",
    "    metadata[bug_id][\"buggy_function\"],\n",
    "    metadata[bug_id][\"patched_function\"],\n",
    "    name1='patched_file',\n",
    "    name2='metadata_file'\n",
    ")"
   ]
  },
  {
   "cell_type": "markdown",
   "id": "44d2cc77",
   "metadata": {},
   "source": [
    "## **Conversational APR + BIC + ChatGPT-4o**"
   ]
  },
  {
   "cell_type": "code",
   "execution_count": 24,
   "id": "bc75c1b4",
   "metadata": {},
   "outputs": [
    {
     "name": "stdout",
     "output_type": "stream",
     "text": [
      "--- patched_file\n",
      "+++ metadata_file\n",
      "@@ -1,6 +1,6 @@\n",
      " @Exported(visibility=999)\n",
      " public @Override String getName() {\n",
      "-if (testName.isEmpty()) {\n",
      "+if (testName == null || testName.trim().isEmpty()) {\n",
      " return \"(?)\";\n",
      " }\n",
      " return testName;\n"
     ]
    }
   ],
   "source": [
    "patched_file = \"./conversation-based-APR/conversational-apr-bic_gpt-4o.json\"\n",
    "\n",
    "with open(patched_file, 'r') as f:\n",
    "    patched_data = json.load(f)\n",
    "\n",
    "if bug_id not in patched_data:\n",
    "    print(f\"Bug ID {bug_id} not found in {patched_file}\")\n",
    "else:\n",
    "    print_code_diff_ignore_whitespace(\n",
    "        metadata[bug_id][\"buggy_function\"],\n",
    "        patched_data[bug_id][\"patched_method\"],\n",
    "        name1='patched_file',\n",
    "        name2='metadata_file'\n",
    "    )"
   ]
  },
  {
   "cell_type": "markdown",
   "id": "af8d5367",
   "metadata": {},
   "source": [
    "## **Prompt APR + BIC + ChatGPT-4o**"
   ]
  },
  {
   "cell_type": "code",
   "execution_count": 25,
   "id": "f69ea39d",
   "metadata": {},
   "outputs": [
    {
     "name": "stdout",
     "output_type": "stream",
     "text": [
      "Bug ID 5 not found in ./prompt-based-APR/prompt-apr-bic_gpt-4o.json\n"
     ]
    }
   ],
   "source": [
    "patched_file = \"./prompt-based-APR/prompt-apr-bic_gpt-4o.json\"\n",
    "\n",
    "with open(patched_file, 'r') as f:\n",
    "    patched_data = json.load(f)\n",
    "\n",
    "if bug_id not in patched_data:\n",
    "    print(f\"Bug ID {bug_id} not found in {patched_file}\")\n",
    "else:\n",
    "    print_code_diff_ignore_whitespace(\n",
    "        metadata[bug_id][\"buggy_function\"],\n",
    "        patched_data[bug_id][\"patched_method\"],\n",
    "        name1='patched_file',\n",
    "        name2='metadata_file'\n",
    "    )"
   ]
  },
  {
   "cell_type": "markdown",
   "id": "81fea993",
   "metadata": {},
   "source": [
    "## **Conversational APR + BIC + ChatGPT-3.5-Turbo**"
   ]
  },
  {
   "cell_type": "code",
   "execution_count": 26,
   "id": "da284056",
   "metadata": {},
   "outputs": [
    {
     "name": "stdout",
     "output_type": "stream",
     "text": [
      "--- patched_file\n",
      "+++ metadata_file\n",
      "@@ -1,6 +1,6 @@\n",
      "-@Exported(visibility=999)\n",
      "+@Exported(visibility = 999)\n",
      " public @Override String getName() {\n",
      "-if (testName.isEmpty()) {\n",
      "+if (testName == null || testName.isEmpty()) {\n",
      " return \"(?)\";\n",
      " }\n",
      " return testName;\n"
     ]
    }
   ],
   "source": [
    "patched_file = \"./conversation-based-APR/conversational-apr-bic_gpt-3.5-turbo.json\"\n",
    "\n",
    "with open(patched_file, 'r') as f:\n",
    "    patched_data = json.load(f)\n",
    "\n",
    "if bug_id not in patched_data:\n",
    "    print(f\"Bug ID {bug_id} not found in {patched_file}\")\n",
    "else:\n",
    "    print_code_diff_ignore_whitespace(\n",
    "        metadata[bug_id][\"buggy_function\"],\n",
    "        patched_data[bug_id][\"patched_method\"],\n",
    "        name1='patched_file',\n",
    "        name2='metadata_file'\n",
    "    )"
   ]
  },
  {
   "cell_type": "markdown",
   "id": "acc8eee9",
   "metadata": {},
   "source": [
    "## **Prompt APR + BIC + ChatGPT-3.5-Turbo**"
   ]
  },
  {
   "cell_type": "code",
   "execution_count": 27,
   "id": "935bc19b",
   "metadata": {},
   "outputs": [
    {
     "name": "stdout",
     "output_type": "stream",
     "text": [
      "--- patched_file\n",
      "+++ metadata_file\n",
      "@@ -1,6 +1,6 @@\n",
      "-@Exported(visibility=999)\n",
      "+@Exported(visibility = 999)\n",
      " public @Override String getName() {\n",
      "-if (testName.isEmpty()) {\n",
      "+if (testName == null || testName.isEmpty()) {\n",
      " return \"(?)\";\n",
      " }\n",
      " return testName;\n"
     ]
    }
   ],
   "source": [
    "patched_file = \"./prompt-based-APR/prompt-apr-bic_gpt-3.5-turbo.json\"\n",
    "\n",
    "with open(patched_file, 'r') as f:\n",
    "    patched_data = json.load(f)\n",
    "\n",
    "if bug_id not in patched_data:\n",
    "    print(f\"Bug ID {bug_id} not found in {patched_file}\")\n",
    "else:\n",
    "    print_code_diff_ignore_whitespace(\n",
    "        metadata[bug_id][\"buggy_function\"],\n",
    "        patched_data[bug_id][\"patched_method\"],\n",
    "        name1='patched_file',\n",
    "        name2='metadata_file'\n",
    "    )"
   ]
  },
  {
   "cell_type": "markdown",
   "id": "9324c8a9",
   "metadata": {},
   "source": [
    "# **==NO BUG-INDUCING CHANGES INFORMATION==**"
   ]
  },
  {
   "cell_type": "markdown",
   "id": "07cbeb10",
   "metadata": {},
   "source": [
    "## **Conversational APR + ChatGPT-4o**"
   ]
  },
  {
   "cell_type": "code",
   "execution_count": 28,
   "id": "7ab3d684",
   "metadata": {},
   "outputs": [
    {
     "name": "stdout",
     "output_type": "stream",
     "text": [
      "--- patched_file\n",
      "+++ metadata_file\n",
      "@@ -1,6 +1,6 @@\n",
      " @Exported(visibility=999)\n",
      " public @Override String getName() {\n",
      "-if (testName.isEmpty()) {\n",
      "+if (testName == null || testName.trim().isEmpty()) {\n",
      " return \"(?)\";\n",
      " }\n",
      " return testName;\n"
     ]
    }
   ],
   "source": [
    "patched_file = \"./conversation-based-APR/conversational-apr_gpt-4o.json\"\n",
    "with open(patched_file, 'r') as f:\n",
    "    patched_data = json.load(f)\n",
    "\n",
    "if bug_id not in patched_data:\n",
    "    print(f\"Bug ID {bug_id} not found in {patched_file}\")\n",
    "else:\n",
    "    print_code_diff_ignore_whitespace(\n",
    "        metadata[bug_id][\"buggy_function\"],\n",
    "        patched_data[bug_id][\"patched_method\"],\n",
    "        name1='patched_file',\n",
    "        name2='metadata_file'\n",
    "    )"
   ]
  },
  {
   "cell_type": "markdown",
   "id": "84ac1dbe",
   "metadata": {},
   "source": [
    "## **Prompt APR + ChatGPT-4o**"
   ]
  },
  {
   "cell_type": "code",
   "execution_count": 29,
   "id": "d8772fef",
   "metadata": {},
   "outputs": [
    {
     "name": "stdout",
     "output_type": "stream",
     "text": [
      "--- patched_file\n",
      "+++ metadata_file\n",
      "@@ -1,6 +1,6 @@\n",
      " @Exported(visibility=999)\n",
      " public @Override String getName() {\n",
      "-if (testName.isEmpty()) {\n",
      "+if (testName == null || testName.isEmpty()) {\n",
      " return \"(?)\";\n",
      " }\n",
      " return testName;\n"
     ]
    }
   ],
   "source": [
    "patched_file = \"./prompt-based-APR/prompt-apr_gpt-4o.json\"\n",
    "with open(patched_file, 'r') as f:\n",
    "    patched_data = json.load(f)\n",
    "\n",
    "if bug_id not in patched_data:\n",
    "    print(f\"Bug ID {bug_id} not found in {patched_file}\")\n",
    "else:\n",
    "    print_code_diff_ignore_whitespace(\n",
    "        metadata[bug_id][\"buggy_function\"],\n",
    "        patched_data[bug_id][\"patched_method\"],\n",
    "        name1='patched_file',\n",
    "        name2='metadata_file'\n",
    "    )"
   ]
  },
  {
   "cell_type": "markdown",
   "id": "7688711a",
   "metadata": {},
   "source": [
    "## **Conversational APR + ChatGPT-3.5-Turbo**"
   ]
  },
  {
   "cell_type": "code",
   "execution_count": 30,
   "id": "0415d31b",
   "metadata": {},
   "outputs": [
    {
     "name": "stdout",
     "output_type": "stream",
     "text": [
      "--- patched_file\n",
      "+++ metadata_file\n",
      "@@ -1,6 +1,6 @@\n",
      " @Exported(visibility=999)\n",
      " public @Override String getName() {\n",
      "-if (testName.isEmpty()) {\n",
      "+if (testName == null || testName.isEmpty()) {\n",
      " return \"(?)\";\n",
      " }\n",
      " return testName;\n"
     ]
    }
   ],
   "source": [
    "patched_file = \"./conversation-based-APR/conversational-apr_gpt-3.5-turbo.json\"\n",
    "with open(patched_file, 'r') as f:\n",
    "    patched_data = json.load(f)\n",
    "\n",
    "if bug_id not in patched_data:\n",
    "    print(f\"Bug ID {bug_id} not found in {patched_file}\")\n",
    "else:\n",
    "    print_code_diff_ignore_whitespace(\n",
    "        metadata[bug_id][\"buggy_function\"],\n",
    "        patched_data[bug_id][\"patched_method\"],\n",
    "        name1='patched_file',\n",
    "        name2='metadata_file'\n",
    "    )"
   ]
  },
  {
   "cell_type": "markdown",
   "id": "329b026c",
   "metadata": {},
   "source": [
    "## **Prompt APR + ChatGPT-3.5-Turbo**"
   ]
  },
  {
   "cell_type": "code",
   "execution_count": 31,
   "id": "6f60d240",
   "metadata": {},
   "outputs": [
    {
     "name": "stdout",
     "output_type": "stream",
     "text": [
      "--- patched_file\n",
      "+++ metadata_file\n",
      "@@ -1,6 +1,6 @@\n",
      " @Exported(visibility=999)\n",
      " public @Override String getName() {\n",
      "-if (testName.isEmpty()) {\n",
      "+if (testName == null || testName.isEmpty()) {\n",
      " return \"(?)\";\n",
      " }\n",
      " return testName;\n"
     ]
    }
   ],
   "source": [
    "patched_file = \"./prompt-based-APR/prompt-apr_gpt-3.5-turbo.json\"\n",
    "with open(patched_file, 'r') as f:\n",
    "    patched_data = json.load(f)\n",
    "\n",
    "if bug_id not in patched_data:\n",
    "    print(f\"Bug ID {bug_id} not found in {patched_file}\")\n",
    "else:\n",
    "    print_code_diff_ignore_whitespace(\n",
    "        metadata[bug_id][\"buggy_function\"],\n",
    "        patched_data[bug_id][\"patched_method\"],\n",
    "        name1='patched_file',\n",
    "        name2='metadata_file'\n",
    "    )"
   ]
  },
  {
   "cell_type": "markdown",
   "id": "ce777b6e",
   "metadata": {},
   "source": [
    "# **== LEARNING-BASED APR ==**"
   ]
  },
  {
   "cell_type": "markdown",
   "id": "67b88595",
   "metadata": {},
   "source": [
    "## **RepairLlama**"
   ]
  },
  {
   "cell_type": "code",
   "execution_count": 32,
   "id": "581ecae9",
   "metadata": {},
   "outputs": [
    {
     "name": "stdout",
     "output_type": "stream",
     "text": [
      "--- patched_file\n",
      "+++ metadata_file\n",
      "@@ -1,6 +1,5 @@\n",
      "-@Exported(visibility=999)\n",
      " public @Override String getName() {\n",
      "-if (testName.isEmpty()) {\n",
      "+if (testName == null || testName.isEmpty()) {\n",
      " return \"(?)\";\n",
      " }\n",
      " return testName;\n"
     ]
    }
   ],
   "source": [
    "patched_file = \"./fine-tuning-based-APR/RepairLlama.json\"\n",
    "with open(patched_file, 'r') as f:\n",
    "    patched_data = json.load(f)\n",
    "\n",
    "if bug_id not in patched_data:\n",
    "    print(f\"Bug ID {bug_id} not found in {patched_file}\")\n",
    "else:\n",
    "    print_code_diff_ignore_whitespace(\n",
    "        metadata[bug_id][\"buggy_function\"],\n",
    "        patched_data[bug_id][\"patched_method\"],\n",
    "        name1='patched_file',\n",
    "        name2='metadata_file'\n",
    "    )"
   ]
  },
  {
   "cell_type": "markdown",
   "id": "95740ce7",
   "metadata": {},
   "source": [
    "## **Incoder-6B**"
   ]
  },
  {
   "cell_type": "code",
   "execution_count": 33,
   "id": "b5a3f344",
   "metadata": {},
   "outputs": [
    {
     "name": "stdout",
     "output_type": "stream",
     "text": [
      "--- patched_file\n",
      "+++ metadata_file\n",
      "@@ -1,6 +1,5 @@\n",
      "-@Exported(visibility=999)\n",
      " public @Override String getName() {\n",
      "-if (testName.isEmpty()) {\n",
      "+if (testName == null || testName.isEmpty()) {\n",
      " return \"(?)\";\n",
      " }\n",
      " return testName;\n"
     ]
    }
   ],
   "source": [
    "patched_file = \"./fine-tuning-based-APR/Incoder-6B.json\"\n",
    "with open(patched_file, 'r') as f:\n",
    "    patched_data = json.load(f)\n",
    "\n",
    "if bug_id not in patched_data:\n",
    "    print(f\"Bug ID {bug_id} not found in {patched_file}\")\n",
    "else:\n",
    "    print_code_diff_ignore_whitespace(\n",
    "        metadata[bug_id][\"buggy_function\"],\n",
    "        patched_data[bug_id][\"patched_method\"],\n",
    "        name1='patched_file',\n",
    "        name2='metadata_file'\n",
    "    )"
   ]
  },
  {
   "cell_type": "markdown",
   "id": "775f4281",
   "metadata": {},
   "source": [
    "## **Incoder-1B**"
   ]
  },
  {
   "cell_type": "code",
   "execution_count": 34,
   "id": "8c5ede2c",
   "metadata": {},
   "outputs": [
    {
     "name": "stdout",
     "output_type": "stream",
     "text": [
      "--- patched_file\n",
      "+++ metadata_file\n",
      "@@ -1,6 +1,5 @@\n",
      "-@Exported(visibility=999)\n",
      " public @Override String getName() {\n",
      "-if (testName.isEmpty()) {\n",
      "+if (testName == null || testName.isEmpty()) {\n",
      " return \"(?)\";\n",
      " }\n",
      " return testName;\n"
     ]
    }
   ],
   "source": [
    "patched_file = \"./fine-tuning-based-APR/Incoder-1B.json\"\n",
    "with open(patched_file, 'r') as f:\n",
    "    patched_data = json.load(f)\n",
    "\n",
    "if bug_id not in patched_data:\n",
    "    print(f\"Bug ID {bug_id} not found in {patched_file}\")\n",
    "else:\n",
    "    print_code_diff_ignore_whitespace(\n",
    "        metadata[bug_id][\"buggy_function\"],\n",
    "        patched_data[bug_id][\"patched_method\"],\n",
    "        name1='patched_file',\n",
    "        name2='metadata_file'\n",
    "    )"
   ]
  },
  {
   "cell_type": "markdown",
   "id": "3937a330",
   "metadata": {},
   "source": [
    "## **CodeGen-6B**"
   ]
  },
  {
   "cell_type": "code",
   "execution_count": 35,
   "id": "ab23af56",
   "metadata": {},
   "outputs": [
    {
     "name": "stdout",
     "output_type": "stream",
     "text": [
      "Bug ID 5 not found in ./fine-tuning-based-APR/CodeGen-6B.json\n"
     ]
    }
   ],
   "source": [
    "patched_file = \"./fine-tuning-based-APR/CodeGen-6B.json\"\n",
    "with open(patched_file, 'r') as f:\n",
    "    patched_data = json.load(f)\n",
    "\n",
    "if bug_id not in patched_data:\n",
    "    print(f\"Bug ID {bug_id} not found in {patched_file}\")\n",
    "else:\n",
    "    print_code_diff_ignore_whitespace(\n",
    "        metadata[bug_id][\"buggy_function\"],\n",
    "        patched_data[bug_id][\"patched_method\"],\n",
    "        name1='patched_file',\n",
    "        name2='metadata_file'\n",
    "    )"
   ]
  },
  {
   "cell_type": "markdown",
   "id": "0d3a3a4b",
   "metadata": {},
   "source": [
    "## **CodeGen-2B**"
   ]
  },
  {
   "cell_type": "code",
   "execution_count": 36,
   "id": "998fd9fa",
   "metadata": {},
   "outputs": [
    {
     "name": "stdout",
     "output_type": "stream",
     "text": [
      "--- patched_file\n",
      "+++ metadata_file\n",
      "@@ -1,6 +1,5 @@\n",
      "-@Exported(visibility=999)\n",
      " public @Override String getName() {\n",
      "-if (testName.isEmpty()) {\n",
      "+if (testName == null || testName.isEmpty()) {\n",
      " return \"(?)\";\n",
      " }\n",
      " return testName;\n"
     ]
    }
   ],
   "source": [
    "patched_file = \"./fine-tuning-based-APR/CodeGen-2B.json\"\n",
    "with open(patched_file, 'r') as f:\n",
    "    patched_data = json.load(f)\n",
    "\n",
    "if bug_id not in patched_data:\n",
    "    print(f\"Bug ID {bug_id} not found in {patched_file}\")\n",
    "else:\n",
    "    print_code_diff_ignore_whitespace(\n",
    "        metadata[bug_id][\"buggy_function\"],\n",
    "        patched_data[bug_id][\"patched_method\"],\n",
    "        name1='patched_file',\n",
    "        name2='metadata_file'\n",
    "    )"
   ]
  }
 ],
 "metadata": {
  "kernelspec": {
   "display_name": "common-libs",
   "language": "python",
   "name": "python3"
  },
  "language_info": {
   "codemirror_mode": {
    "name": "ipython",
    "version": 3
   },
   "file_extension": ".py",
   "mimetype": "text/x-python",
   "name": "python",
   "nbconvert_exporter": "python",
   "pygments_lexer": "ipython3",
   "version": "3.10.16"
  }
 },
 "nbformat": 4,
 "nbformat_minor": 5
}
